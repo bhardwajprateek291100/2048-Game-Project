{
 "cells": [
  {
   "cell_type": "code",
   "execution_count": 1,
   "metadata": {},
   "outputs": [],
   "source": [
    "import random"
   ]
  },
  {
   "cell_type": "markdown",
   "metadata": {},
   "source": [
    "### Initialise Parameters"
   ]
  },
  {
   "cell_type": "code",
   "execution_count": 2,
   "metadata": {},
   "outputs": [],
   "source": [
    "n = 4\n",
    "won_number = 2048"
   ]
  },
  {
   "cell_type": "markdown",
   "metadata": {},
   "source": [
    "### Start Game"
   ]
  },
  {
   "cell_type": "code",
   "execution_count": 3,
   "metadata": {},
   "outputs": [],
   "source": [
    "def start_game():\n",
    "    mat = []\n",
    "    for i in range(n):\n",
    "        mat.append([0]*n)\n",
    "    return mat"
   ]
  },
  {
   "cell_type": "markdown",
   "metadata": {},
   "source": [
    "### Add new 2 "
   ]
  },
  {
   "cell_type": "code",
   "execution_count": 4,
   "metadata": {},
   "outputs": [],
   "source": [
    "def add_new_2(mat):\n",
    "    \n",
    "    ## random selection of cell\n",
    "    r = random.randint(0,n)\n",
    "    c = random.randint(0,n)\n",
    "    while(mat[r][c] != 0):\n",
    "        r = random.randint(0,n)\n",
    "        c = random.randint(0,n)\n",
    "        \n",
    "    mat[r][c] = 2\n",
    "    "
   ]
  },
  {
   "cell_type": "markdown",
   "metadata": {},
   "source": [
    "### State of Game\n",
    "- Lost\n",
    "- Won\n",
    "- Game is ON"
   ]
  },
  {
   "cell_type": "code",
   "execution_count": 5,
   "metadata": {},
   "outputs": [],
   "source": [
    "def current_state(mat):\n",
    "    \n",
    "    ## won\n",
    "    for i in range(n):\n",
    "        for j in range(n):\n",
    "            if(mat[i][j] == won_number):\n",
    "                return \"WON\"\n",
    "    \n",
    "    ## game On\n",
    "    for i in range(n):\n",
    "        for j in range(n):\n",
    "            ## shifting can create space or not\n",
    "            if (i+1 < n and mat[i+1][j]==mat[i][j]) or (j+1 < n and mat[i][j+1] == mat[i][j]):\n",
    "                return \"Game is ON\"\n",
    "            \n",
    "            ## empty cells are present or not\n",
    "            if(mat[i][j] == 0):\n",
    "                return \"Game is ON\"\n",
    "            \n",
    "    return \"Lost\""
   ]
  },
  {
   "cell_type": "markdown",
   "metadata": {},
   "source": [
    "### Compress the matrix"
   ]
  },
  {
   "cell_type": "code",
   "execution_count": 6,
   "metadata": {},
   "outputs": [],
   "source": [
    "def compress(mat):\n",
    "    change = False\n",
    "    new_mat = []\n",
    "    for i in range(n):\n",
    "        new_mat.append([0]*n)\n",
    "    \n",
    "    for i in range(n):\n",
    "        pos = 0\n",
    "        for j in range(n):\n",
    "            if mat[i][j] != 0:\n",
    "                new_mat[i][pos] = mat[i][j]\n",
    "                if j != pos:\n",
    "                    change = True\n",
    "                pos+=1\n",
    "                \n",
    "    return new_mat, change"
   ]
  },
  {
   "cell_type": "markdown",
   "metadata": {},
   "source": [
    "### Merge"
   ]
  },
  {
   "cell_type": "code",
   "execution_count": 7,
   "metadata": {},
   "outputs": [],
   "source": [
    "def merge(mat):\n",
    "    change = False\n",
    "    for i in range(n):\n",
    "        for j in range(n-1):\n",
    "            if mat[i][j] == mat[i][j+1] and mat[i][j]!=0:\n",
    "                change = True\n",
    "                mat[i][j] = mat[i][j]*2\n",
    "                mat[i][j+1] = 0\n",
    "                \n",
    "    return mat, change"
   ]
  },
  {
   "cell_type": "markdown",
   "metadata": {},
   "source": [
    "### Reverse the matrix"
   ]
  },
  {
   "cell_type": "code",
   "execution_count": 8,
   "metadata": {},
   "outputs": [],
   "source": [
    "def reverse(mat):\n",
    "    new_mat = []\n",
    "    for i in range(n):\n",
    "        new_mat.append([])\n",
    "        for j in range(n):\n",
    "            new_mat[i].append(mat[i][n-j-1])\n",
    "    \n",
    "    return new_mat\n"
   ]
  },
  {
   "cell_type": "markdown",
   "metadata": {},
   "source": [
    "### Transpose the matrix"
   ]
  },
  {
   "cell_type": "code",
   "execution_count": 9,
   "metadata": {},
   "outputs": [],
   "source": [
    "def transpose(mat):\n",
    "    new_mat = []\n",
    "    for i in range(n):\n",
    "        new_mat.append([])\n",
    "        for j in range(n):\n",
    "            new_mat[i].append(mat[j][i])\n",
    "    return new_mat\n"
   ]
  },
  {
   "cell_type": "markdown",
   "metadata": {},
   "source": [
    "### Moves"
   ]
  },
  {
   "cell_type": "code",
   "execution_count": 10,
   "metadata": {},
   "outputs": [],
   "source": [
    "def move_up(mat):\n",
    "    transposed_mat = transpose(mat)\n",
    "    new_mat,change_compress = compress(transposed_mat)\n",
    "    new_mat,change_merge = merge(new_mat)\n",
    "    new_mat = compress(new_mat)\n",
    "    change = change_compress or change_merge\n",
    "    final_mat = transpose(new_mat)\n",
    "    return final_mat, change\n",
    "\n",
    "def move_down(mat):\n",
    "    transposed_mat = transpose(mat)\n",
    "    reversed_mat = reverse(transposed_mat)\n",
    "    new_mat,change_compress = compress(reversed_mat)\n",
    "    new_mat,change_merge = merge(new_mat)\n",
    "    new_mat = compress(new_mat)\n",
    "    change = change_compress or change_merge\n",
    "    final_reversed_mat = reverse(new_mat)\n",
    "    final_mat = transpose(final_reversed_mat)\n",
    "    return final_mat, change\n",
    "\n",
    "def move_right(mat):\n",
    "    reversed_mat = reverse(mat)\n",
    "    new_mat,change_compress = compress(reversed_mat)\n",
    "    new_mat,change_merge = merge(new_mat)\n",
    "    new_mat = compress(new_mat)\n",
    "    change = change_compress or change_merge\n",
    "    final_mat = reverse(new_mat)\n",
    "    return final_mat, change\n",
    "\n",
    "def move_left(mat):\n",
    "    new_mat,change_compress = compress(mat)\n",
    "    new_mat,change_merge = merge(new_mat)\n",
    "    new_mat = compress(new_mat)\n",
    "    change = change_compress or change_merge\n",
    "    return new_mat, change"
   ]
  },
  {
   "cell_type": "code",
   "execution_count": null,
   "metadata": {},
   "outputs": [],
   "source": []
  }
 ],
 "metadata": {
  "kernelspec": {
   "display_name": "Python 3",
   "language": "python",
   "name": "python3"
  },
  "language_info": {
   "codemirror_mode": {
    "name": "ipython",
    "version": 3
   },
   "file_extension": ".py",
   "mimetype": "text/x-python",
   "name": "python",
   "nbconvert_exporter": "python",
   "pygments_lexer": "ipython3",
   "version": "3.7.6"
  }
 },
 "nbformat": 4,
 "nbformat_minor": 4
}
